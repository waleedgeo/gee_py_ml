{
 "cells": [
  {
   "cell_type": "markdown",
   "metadata": {},
   "source": []
  },
  {
   "cell_type": "code",
   "execution_count": 1,
   "metadata": {},
   "outputs": [],
   "source": [
    "import ee\n",
    "import geemap\n",
    "import geemap.colormaps as cm\n",
    "\n",
    "import eemont\n",
    "try:\n",
    "    ee.Initialize()\n",
    "except Exception as e:\n",
    "    ee.Authenticate()\n",
    "    ee.Initialize()"
   ]
  },
  {
   "cell_type": "code",
   "execution_count": null,
   "metadata": {},
   "outputs": [
    {
     "data": {
      "text/html": [
       "\n",
       "            <style>\n",
       "                .geemap-dark {\n",
       "                    --jp-widgets-color: white;\n",
       "                    --jp-widgets-label-color: white;\n",
       "                    --jp-ui-font-color1: white;\n",
       "                    --jp-layout-color2: #454545;\n",
       "                    background-color: #383838;\n",
       "                }\n",
       "                    \n",
       "                .geemap-dark .jupyter-button {\n",
       "                    --jp-layout-color3: #383838;\n",
       "                }\n",
       "                \n",
       "                .geemap-colab {\n",
       "                    background-color: var(--colab-primary-surface-color, white);\n",
       "                }\n",
       "                    \n",
       "                .geemap-colab .jupyter-button {\n",
       "                    --jp-layout-color3: var(--colab-primary-surface-color, white);\n",
       "                }\n",
       "            </style>\n",
       "            "
      ],
      "text/plain": [
       "<IPython.core.display.HTML object>"
      ]
     },
     "metadata": {},
     "output_type": "display_data"
    },
    {
     "name": "stderr",
     "output_type": "stream",
     "text": [
      "No such comm: 3376f7b461c94c899405dd4686c7378f\n",
      "No such comm: 3376f7b461c94c899405dd4686c7378f\n",
      "No such comm: e198078c9f4e4bfa9198fb6bc878a0ea\n"
     ]
    }
   ],
   "source": [
    "point = ee.Geometry.Point(3.3896932773281856, 6.516974260768799) #Lagos, Nigeria\n",
    "aoi = point.buffer(5000).bounds()\n",
    "\n",
    "\n",
    "Map = geemap.Map()\n",
    "Map.centerObject(aoi, 12)\n",
    "Map.addLayer(aoi, {}, 'AOI')"
   ]
  },
  {
   "cell_type": "code",
   "execution_count": 5,
   "metadata": {},
   "outputs": [
    {
     "data": {
      "text/html": [
       "\n",
       "            <style>\n",
       "                .geemap-dark {\n",
       "                    --jp-widgets-color: white;\n",
       "                    --jp-widgets-label-color: white;\n",
       "                    --jp-ui-font-color1: white;\n",
       "                    --jp-layout-color2: #454545;\n",
       "                    background-color: #383838;\n",
       "                }\n",
       "                    \n",
       "                .geemap-dark .jupyter-button {\n",
       "                    --jp-layout-color3: #383838;\n",
       "                }\n",
       "                \n",
       "                .geemap-colab {\n",
       "                    background-color: var(--colab-primary-surface-color, white);\n",
       "                }\n",
       "                    \n",
       "                .geemap-colab .jupyter-button {\n",
       "                    --jp-layout-color3: var(--colab-primary-surface-color, white);\n",
       "                }\n",
       "            </style>\n",
       "            "
      ],
      "text/plain": [
       "<IPython.core.display.HTML object>"
      ]
     },
     "metadata": {},
     "output_type": "display_data"
    },
    {
     "data": {
      "application/vnd.jupyter.widget-view+json": {
       "model_id": "9036cfb63432432eaef0714eeb49952f",
       "version_major": 2,
       "version_minor": 0
      },
      "text/plain": [
       "Map(center=[6.5169822257490875, 3.389765029252635], controls=(WidgetControl(options=['position', 'transparent_…"
      ]
     },
     "execution_count": 5,
     "metadata": {},
     "output_type": "execute_result"
    }
   ],
   "source": [
    "def mask_s2_clouds(image):\n",
    "  \"\"\"Masks clouds in a Sentinel-2 image using the QA band.\n",
    "\n",
    "  Args:\n",
    "      image (ee.Image): A Sentinel-2 image.\n",
    "\n",
    "  Returns:\n",
    "      ee.Image: A cloud-masked Sentinel-2 image.\n",
    "  \"\"\"\n",
    "  qa = image.select('QA60')\n",
    "\n",
    "  # Bits 10 and 11 are clouds and cirrus, respectively.\n",
    "  cloud_bit_mask = 1 << 10\n",
    "  cirrus_bit_mask = 1 << 11\n",
    "\n",
    "  # Both flags should be set to zero, indicating clear conditions.\n",
    "  mask = (\n",
    "      qa.bitwiseAnd(cloud_bit_mask)\n",
    "      .eq(0)\n",
    "      .And(qa.bitwiseAnd(cirrus_bit_mask).eq(0))\n",
    "  )\n",
    "\n",
    "  return image.updateMask(mask).divide(10000)\n",
    "\n",
    "s2 = (\n",
    "    ee.ImageCollection('COPERNICUS/S2_SR')\n",
    "    .filterDate('2023-01-01', '2023-01-15')\n",
    "    # Pre-filter to get less cloudy granules.\n",
    "    #.filter(ee.Filter.lt('CLOUDY_PIXEL_PERCENTAGE', 60))\n",
    "    .filterBounds(aoi)\n",
    "    #.map(mask_s2_clouds)\n",
    "    .maskClouds()\n",
    "    .scaleAndOffset()\n",
    "    .spectralIndices(['MNDVI', 'NDBI', 'MNDWI'])\n",
    "    .mean()\n",
    "    .clip(aoi)\n",
    ")\n",
    "\n",
    "vis_fcc = {\n",
    "    'min': 0.2,\n",
    "    'max': 0.5,\n",
    "    'bands': ['B8', 'B4', 'B3'],\n",
    "}\n",
    "\n",
    "\n",
    "Map.add_layer(s2, vis_fcc, 'FCC')\n",
    "# visualize spectral indices\n",
    "Map.addLayer(s2.select('MNDVI'), {'min': -0.2, 'max': 0.3, 'palette': cm.palettes.ndvi}, 'MNDVI')\n",
    "Map.addLayer(s2.select('NDBI'), {'min': -0.2, 'max': 0.1, 'palette': cm.get_palette('coolwarm')}, 'NDBI')\n",
    "Map.addLayer(s2.select('MNDWI'), {'min': -0.3, 'max': 0.1, 'palette': cm.get_palette('RdBu')}, 'MNDWI')\n",
    "Map"
   ]
  },
  {
   "cell_type": "code",
   "execution_count": null,
   "metadata": {},
   "outputs": [],
   "source": [
    "Map.user_rois.getInfo()"
   ]
  },
  {
   "cell_type": "markdown",
   "metadata": {},
   "source": [
    "### ESRI LULC Link: https://gee-community-catalog.org/projects/S2TSLULC/"
   ]
  },
  {
   "cell_type": "code",
   "execution_count": 7,
   "metadata": {},
   "outputs": [
    {
     "data": {
      "text/html": [
       "\n",
       "            <style>\n",
       "                .geemap-dark {\n",
       "                    --jp-widgets-color: white;\n",
       "                    --jp-widgets-label-color: white;\n",
       "                    --jp-ui-font-color1: white;\n",
       "                    --jp-layout-color2: #454545;\n",
       "                    background-color: #383838;\n",
       "                }\n",
       "                    \n",
       "                .geemap-dark .jupyter-button {\n",
       "                    --jp-layout-color3: #383838;\n",
       "                }\n",
       "                \n",
       "                .geemap-colab {\n",
       "                    background-color: var(--colab-primary-surface-color, white);\n",
       "                }\n",
       "                    \n",
       "                .geemap-colab .jupyter-button {\n",
       "                    --jp-layout-color3: var(--colab-primary-surface-color, white);\n",
       "                }\n",
       "            </style>\n",
       "            "
      ],
      "text/plain": [
       "<IPython.core.display.HTML object>"
      ]
     },
     "metadata": {},
     "output_type": "display_data"
    },
    {
     "data": {
      "application/vnd.jupyter.widget-view+json": {
       "model_id": "d0e342d0d93b47f3b081cef0fbec0483",
       "version_major": 2,
       "version_minor": 0
      },
      "text/plain": [
       "Map(bottom=1010801.0, center=[6.5218772856587, 3.382150599504441], controls=(WidgetControl(options=['position'…"
      ]
     },
     "execution_count": 7,
     "metadata": {},
     "output_type": "execute_result"
    }
   ],
   "source": [
    "bands = ['B2', 'B3', 'B4', 'B5', 'B6', 'B7', 'B8', 'B11', 'B12', 'MNDVI', 'NDBI', 'MNDWI']\n",
    "image = s2.select(bands)\n",
    "\n",
    "# create a reference image and sample from it\n",
    "esri_lulc = (ee.ImageCollection(\"projects/sat-io/open-datasets/landcover/ESRI_Global-LULC_10m_TS\")\n",
    "                .filterDate('2022-01-01', '2022-12-31')\n",
    "                .mosaic()\n",
    "                .clip(aoi)\n",
    "                .remap([1,2,4,5,7,8,9,10,11],[1,2,3,4,5,6,7,8,9])\n",
    ")\n",
    "\n",
    "esri_vis = {\n",
    "  \"names\": [\n",
    "    \"Water\",\n",
    "    \"Trees\",\n",
    "    \"Flooded Vegetation\",\n",
    "    \"Crops\",\n",
    "    \"Built Area\",\n",
    "    \"Bare Ground\",\n",
    "    \"Snow/Ice\",\n",
    "    \"Clouds\",\n",
    "    \"Rangeland\"\n",
    "  ],\n",
    "  \"colors\": [\n",
    "    \"#1A5BAB\",\n",
    "    \"#358221\",\n",
    "    \"#87D19E\",\n",
    "    \"#FFDB5C\",\n",
    "    \"#ED022A\",\n",
    "    \"#EDE9E4\",\n",
    "    \"#F2FAFF\",\n",
    "    \"#C8C8C8\",\n",
    "    \"#C6AD8D\"\n",
    "  ]}\n",
    "Map.addLayer(esri_lulc, {'min':1, 'max':9, 'palette':esri_vis['colors']}, '2022 LULC 10m', False)\n",
    "\n",
    "new_esri = esri_lulc.remap([1, 5],[2, 1]).rename('lc')\n",
    "\n",
    "Map.addLayer(new_esri, {'min':1, 'max':2, 'palette':['red', 'blue']}, 'NEW ESRI', False)\n",
    "Map\n"
   ]
  },
  {
   "cell_type": "code",
   "execution_count": 9,
   "metadata": {},
   "outputs": [
    {
     "data": {
      "text/html": [
       "\n",
       "            <style>\n",
       "                .geemap-dark {\n",
       "                    --jp-widgets-color: white;\n",
       "                    --jp-widgets-label-color: white;\n",
       "                    --jp-ui-font-color1: white;\n",
       "                    --jp-layout-color2: #454545;\n",
       "                    background-color: #383838;\n",
       "                }\n",
       "                    \n",
       "                .geemap-dark .jupyter-button {\n",
       "                    --jp-layout-color3: #383838;\n",
       "                }\n",
       "                \n",
       "                .geemap-colab {\n",
       "                    background-color: var(--colab-primary-surface-color, white);\n",
       "                }\n",
       "                    \n",
       "                .geemap-colab .jupyter-button {\n",
       "                    --jp-layout-color3: var(--colab-primary-surface-color, white);\n",
       "                }\n",
       "            </style>\n",
       "            "
      ],
      "text/plain": [
       "<IPython.core.display.HTML object>"
      ]
     },
     "metadata": {},
     "output_type": "display_data"
    },
    {
     "name": "stdout",
     "output_type": "stream",
     "text": [
      "Image projection: {'type': 'Projection', 'crs': 'EPSG:4326', 'transform': [1, 0, 0, 0, 1, 0]}\n",
      "Reference projection: {'type': 'Projection', 'crs': 'EPSG:4326', 'transform': [1, 0, 0, 0, 1, 0]}\n"
     ]
    }
   ],
   "source": [
    "# projections of image and new reference image\n",
    "print('Image projection:', image.projection().getInfo())\n",
    "print('Reference projection:', new_esri.projection().getInfo())"
   ]
  },
  {
   "cell_type": "code",
   "execution_count": 8,
   "metadata": {},
   "outputs": [
    {
     "data": {
      "text/html": [
       "\n",
       "            <style>\n",
       "                .geemap-dark {\n",
       "                    --jp-widgets-color: white;\n",
       "                    --jp-widgets-label-color: white;\n",
       "                    --jp-ui-font-color1: white;\n",
       "                    --jp-layout-color2: #454545;\n",
       "                    background-color: #383838;\n",
       "                }\n",
       "                    \n",
       "                .geemap-dark .jupyter-button {\n",
       "                    --jp-layout-color3: #383838;\n",
       "                }\n",
       "                \n",
       "                .geemap-colab {\n",
       "                    background-color: var(--colab-primary-surface-color, white);\n",
       "                }\n",
       "                    \n",
       "                .geemap-colab .jupyter-button {\n",
       "                    --jp-layout-color3: var(--colab-primary-surface-color, white);\n",
       "                }\n",
       "            </style>\n",
       "            "
      ],
      "text/plain": [
       "<IPython.core.display.HTML object>"
      ]
     },
     "metadata": {},
     "output_type": "display_data"
    },
    {
     "name": "stdout",
     "output_type": "stream",
     "text": [
      "2000\n",
      "{'type': 'Feature', 'geometry': {'geodesic': False, 'type': 'Point', 'coordinates': [3.3707035248374746, 6.478604913305783]}, 'id': '0', 'properties': {'lc': 1}}\n"
     ]
    },
    {
     "data": {
      "application/vnd.jupyter.widget-view+json": {
       "model_id": "d0e342d0d93b47f3b081cef0fbec0483",
       "version_major": 2,
       "version_minor": 0
      },
      "text/plain": [
       "Map(bottom=1010801.0, center=[6.5218772856587, 3.382150599504441], controls=(WidgetControl(options=['position'…"
      ]
     },
     "execution_count": 8,
     "metadata": {},
     "output_type": "execute_result"
    }
   ],
   "source": [
    "# generate random samples (stratifed by class)\n",
    "sample_size = 1000\n",
    "seed = 42\n",
    "scale = 10\n",
    "samples = new_esri.stratifiedSample(\n",
    "    numPoints=sample_size,\n",
    "    classBand='lc',\n",
    "    region=aoi,\n",
    "    scale=scale,\n",
    "    projection=image.projection(),\n",
    "    seed=seed,\n",
    "    geometries=True\n",
    ")\n",
    "\n",
    "Map.addLayer(samples, {}, 'samples', False)\n",
    "print(samples.size().getInfo())\n",
    "print(samples.first().getInfo())\n",
    "Map"
   ]
  },
  {
   "cell_type": "code",
   "execution_count": 10,
   "metadata": {},
   "outputs": [
    {
     "data": {
      "text/html": [
       "\n",
       "            <style>\n",
       "                .geemap-dark {\n",
       "                    --jp-widgets-color: white;\n",
       "                    --jp-widgets-label-color: white;\n",
       "                    --jp-ui-font-color1: white;\n",
       "                    --jp-layout-color2: #454545;\n",
       "                    background-color: #383838;\n",
       "                }\n",
       "                    \n",
       "                .geemap-dark .jupyter-button {\n",
       "                    --jp-layout-color3: #383838;\n",
       "                }\n",
       "                \n",
       "                .geemap-colab {\n",
       "                    background-color: var(--colab-primary-surface-color, white);\n",
       "                }\n",
       "                    \n",
       "                .geemap-colab .jupyter-button {\n",
       "                    --jp-layout-color3: var(--colab-primary-surface-color, white);\n",
       "                }\n",
       "            </style>\n",
       "            "
      ],
      "text/plain": [
       "<IPython.core.display.HTML object>"
      ]
     },
     "metadata": {},
     "output_type": "display_data"
    },
    {
     "data": {
      "text/plain": [
       "{'type': 'Feature',\n",
       " 'geometry': {'geodesic': False,\n",
       "  'type': 'Point',\n",
       "  'coordinates': [3.3707035248374746, 6.478604913305783]},\n",
       " 'id': '0_0',\n",
       " 'properties': {'B11': 0.28350000000000003,\n",
       "  'B12': 0.2403,\n",
       "  'B2': 0.201,\n",
       "  'B3': 0.22660000000000002,\n",
       "  'B4': 0.23570000000000002,\n",
       "  'B5': 0.26195,\n",
       "  'B6': 0.28790000000000004,\n",
       "  'B7': 0.30425,\n",
       "  'B8': 0.2982,\n",
       "  'MNDVI': 0.10819010776457585,\n",
       "  'MNDWI': -0.11102368908281263,\n",
       "  'NDBI': -0.025656033147810106,\n",
       "  'lc': 1}}"
      ]
     },
     "execution_count": 10,
     "metadata": {},
     "output_type": "execute_result"
    }
   ],
   "source": [
    "# sample the image\n",
    "samples = image.sampleRegions(\n",
    "    collection=samples,\n",
    "    properties=['lc'],\n",
    "    scale=scale,\n",
    "    projection=image.projection(),\n",
    "    geometries=True\n",
    ")\n",
    "samples.first().getInfo()"
   ]
  },
  {
   "cell_type": "code",
   "execution_count": 11,
   "metadata": {},
   "outputs": [
    {
     "data": {
      "text/html": [
       "\n",
       "            <style>\n",
       "                .geemap-dark {\n",
       "                    --jp-widgets-color: white;\n",
       "                    --jp-widgets-label-color: white;\n",
       "                    --jp-ui-font-color1: white;\n",
       "                    --jp-layout-color2: #454545;\n",
       "                    background-color: #383838;\n",
       "                }\n",
       "                    \n",
       "                .geemap-dark .jupyter-button {\n",
       "                    --jp-layout-color3: #383838;\n",
       "                }\n",
       "                \n",
       "                .geemap-colab {\n",
       "                    background-color: var(--colab-primary-surface-color, white);\n",
       "                }\n",
       "                    \n",
       "                .geemap-colab .jupyter-button {\n",
       "                    --jp-layout-color3: var(--colab-primary-surface-color, white);\n",
       "                }\n",
       "            </style>\n",
       "            "
      ],
      "text/plain": [
       "<IPython.core.display.HTML object>"
      ]
     },
     "metadata": {},
     "output_type": "display_data"
    },
    {
     "data": {
      "application/vnd.jupyter.widget-view+json": {
       "model_id": "d0e342d0d93b47f3b081cef0fbec0483",
       "version_major": 2,
       "version_minor": 0
      },
      "text/plain": [
       "Map(bottom=2021323.0, center=[6.52008650241497, 3.368124961853028], controls=(WidgetControl(options=['position…"
      ]
     },
     "execution_count": 11,
     "metadata": {},
     "output_type": "execute_result"
    }
   ],
   "source": [
    "# split the samples into training and testing\n",
    "split = 0.7\n",
    "samples = samples.randomColumn()\n",
    "\n",
    "training = samples.filter(ee.Filter.lt('random', split))\n",
    "testing = samples.filter(ee.Filter.gte('random', split))\n",
    "\n",
    "\n",
    "# train a classifier\n",
    "classifier = ee.Classifier.smileRandomForest(numberOfTrees=100).train(\n",
    "    features=training,\n",
    "    classProperty='lc',\n",
    "    inputProperties=bands\n",
    ")\n",
    "\n",
    "# classify the image\n",
    "classified = image.select(bands).classify(classifier)\n",
    "Map.addLayer(classified, {'min':1, 'max':2, 'palette':['red', 'blue']}, 'classified')\n",
    "Map"
   ]
  },
  {
   "cell_type": "code",
   "execution_count": 12,
   "metadata": {},
   "outputs": [
    {
     "data": {
      "text/html": [
       "\n",
       "            <style>\n",
       "                .geemap-dark {\n",
       "                    --jp-widgets-color: white;\n",
       "                    --jp-widgets-label-color: white;\n",
       "                    --jp-ui-font-color1: white;\n",
       "                    --jp-layout-color2: #454545;\n",
       "                    background-color: #383838;\n",
       "                }\n",
       "                    \n",
       "                .geemap-dark .jupyter-button {\n",
       "                    --jp-layout-color3: #383838;\n",
       "                }\n",
       "                \n",
       "                .geemap-colab {\n",
       "                    background-color: var(--colab-primary-surface-color, white);\n",
       "                }\n",
       "                    \n",
       "                .geemap-colab .jupyter-button {\n",
       "                    --jp-layout-color3: var(--colab-primary-surface-color, white);\n",
       "                }\n",
       "            </style>\n",
       "            "
      ],
      "text/plain": [
       "<IPython.core.display.HTML object>"
      ]
     },
     "metadata": {},
     "output_type": "display_data"
    },
    {
     "name": "stdout",
     "output_type": "stream",
     "text": [
      "Train Confusion Matrix: [[0, 0, 0], [0, 718, 0], [0, 0, 695]]\n",
      "Train Overall Accuracy: 1\n",
      "Producer's Accuracy: [[0], [1], [1]]\n",
      "Consumer's Accuracy: [[0, 1, 1]]\n",
      "Test Confusion Matrix: [[0, 0, 0], [0, 280, 0], [0, 3, 302]]\n",
      "Test Overall Accuracy: 0.9948717948717949\n",
      "Producer's Accuracy: [[0], [1], [0.9901639344262295]]\n",
      "Consumer's Accuracy: [[0, 0.9893992932862191, 1]]\n"
     ]
    }
   ],
   "source": [
    "# Train Accuracy\n",
    "\n",
    "train_accuracy = classifier.confusionMatrix()\n",
    "print('Train Confusion Matrix:', train_accuracy.getInfo())\n",
    "\n",
    "print('Train Overall Accuracy:', train_accuracy.accuracy().getInfo())\n",
    "\n",
    "print('Producer\\'s Accuracy:', train_accuracy.producersAccuracy().getInfo())\n",
    "print('Consumer\\'s Accuracy:', train_accuracy.consumersAccuracy().getInfo())\n",
    "\n",
    "\n",
    "\n",
    "# Test Accuracy\n",
    "test_accuracy = testing.classify(classifier).errorMatrix('lc', 'classification')\n",
    "\n",
    "print('Test Confusion Matrix:', test_accuracy.getInfo())\n",
    "print('Test Overall Accuracy:', test_accuracy.accuracy().getInfo())\n",
    "print('Producer\\'s Accuracy:', test_accuracy.producersAccuracy().getInfo())\n",
    "print('Consumer\\'s Accuracy:', test_accuracy.consumersAccuracy().getInfo())\n"
   ]
  }
 ],
 "metadata": {
  "kernelspec": {
   "display_name": "gee",
   "language": "python",
   "name": "python3"
  },
  "language_info": {
   "codemirror_mode": {
    "name": "ipython",
    "version": 3
   },
   "file_extension": ".py",
   "mimetype": "text/x-python",
   "name": "python",
   "nbconvert_exporter": "python",
   "pygments_lexer": "ipython3",
   "version": "3.10.13"
  }
 },
 "nbformat": 4,
 "nbformat_minor": 2
}
